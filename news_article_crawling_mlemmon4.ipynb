{
 "cells": [
  {
   "cell_type": "code",
   "execution_count": 1,
   "metadata": {},
   "outputs": [],
   "source": [
    "#imports for news site scraping and writing out json\n",
    "import newspaper\n",
    "import json"
   ]
  },
  {
   "cell_type": "code",
   "execution_count": 2,
   "metadata": {},
   "outputs": [
    {
     "data": {
      "text/plain": [
       "845"
      ]
     },
     "execution_count": 2,
     "metadata": {},
     "output_type": "execute_result"
    }
   ],
   "source": [
    "#grab articles from CNN and check how many we got\n",
    "#the memoize_articles=False is there to not allow newspaper library to cache results as it was\n",
    "#not working well across multiple runs\n",
    "cnn_paper = newspaper.build('https://www.cnn.com', memoize_articles=False)\n",
    "len(cnn_paper.articles)"
   ]
  },
  {
   "cell_type": "code",
   "execution_count": 3,
   "metadata": {},
   "outputs": [
    {
     "name": "stdout",
     "output_type": "stream",
     "text": [
      "Date Not Available\n",
      "Date Not Available\n"
     ]
    }
   ],
   "source": [
    "#create wrapping dictionary, for ease when writing out to json\n",
    "output = {}\n",
    "for article in cnn_paper.articles:\n",
    "    #tmp will be our actual json object\n",
    "    tmp = {}\n",
    "    #attempt to download the article\n",
    "    try:\n",
    "        article.download()\n",
    "        article.parse()\n",
    "    #if download fails just go to the next one\n",
    "    except:\n",
    "        continue\n",
    "    #set attributes of the json object based on contents of article\n",
    "    tmp['title'] = article.title\n",
    "    tmp['authors'] = article.authors\n",
    "    try:\n",
    "        #the line below is just some formatting for json as it cannot take a python datetime object\n",
    "        tmp['publish_date'] = \"{}-{}-{}\".format(article.publish_date.year,article.publish_date.month,article.publish_date.day)\n",
    "    except AttributeError:\n",
    "        #if no publish date just set the object date to none\n",
    "        print(\"Date Not Available\")\n",
    "        tmp['publish_date'] = None\n",
    "    tmp['text'] = article.text\n",
    "    tmp['url'] = article.url\n",
    "    #store the json object in our wrapper dict under the articles title (couldn't think of a better way to identify articles)\n",
    "    output[tmp['title']] = (tmp)\n",
    "    #stop after 50 articles\n",
    "    if len(output) is 50:\n",
    "        break"
   ]
  },
  {
   "cell_type": "code",
   "execution_count": 4,
   "metadata": {},
   "outputs": [
    {
     "data": {
      "text/plain": [
       "50"
      ]
     },
     "execution_count": 4,
     "metadata": {},
     "output_type": "execute_result"
    }
   ],
   "source": [
    "#verify we have 50 articles\n",
    "len(output)"
   ]
  },
  {
   "cell_type": "code",
   "execution_count": 5,
   "metadata": {},
   "outputs": [],
   "source": [
    "#open our file as writeable\n",
    "with open(\"output.json\", \"w\") as outfile:\n",
    "    #some formatting for json\n",
    "    outfile.write(\"{\\n\")\n",
    "    i = 0\n",
    "    #for each title in our wrapper dict\n",
    "    for title in output:\n",
    "        #write the title and some necessary formatting\n",
    "        outfile.write(\"\\\"{}\\\":\".format(title))\n",
    "        #write the actual dict containing the article information\n",
    "        outfile.write(json.dumps(output[title]))\n",
    "        #if-else is just to check whether comma is needed\n",
    "        if i is not 49:\n",
    "            outfile.write(\",\\n\")\n",
    "        else:\n",
    "            outfile.write(\"\\n\")\n",
    "        i += 1\n",
    "    outfile.write(\"}\")"
   ]
  }
 ],
 "metadata": {
  "kernelspec": {
   "display_name": "Python 3",
   "language": "python",
   "name": "python3"
  },
  "language_info": {
   "codemirror_mode": {
    "name": "ipython",
    "version": 3
   },
   "file_extension": ".py",
   "mimetype": "text/x-python",
   "name": "python",
   "nbconvert_exporter": "python",
   "pygments_lexer": "ipython3",
   "version": "3.6.5"
  }
 },
 "nbformat": 4,
 "nbformat_minor": 2
}
